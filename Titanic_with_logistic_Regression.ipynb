{
 "cells": [
  {
   "cell_type": "code",
   "execution_count": 14,
   "id": "05591a37-cb25-4d24-afec-6604187132c9",
   "metadata": {},
   "outputs": [],
   "source": [
    "import pandas as pd\n",
    "import numpy as np\n",
    "from sklearn.compose import ColumnTransformer\n",
    "from sklearn.pipeline import Pipeline\n",
    "from sklearn.impute import SimpleImputer\n",
    "from sklearn.preprocessing import StandardScaler, OneHotEncoder\n",
    "from sklearn.linear_model import LogisticRegression\n",
    "from sklearn.model_selection import train_test_split, GridSearchCV\n"
   ]
  },
  {
   "cell_type": "code",
   "execution_count": 15,
   "id": "130d71e6-481a-40a6-927f-76c37f859da6",
   "metadata": {},
   "outputs": [],
   "source": [
    "np.random.seed(0)"
   ]
  },
  {
   "cell_type": "code",
   "execution_count": 16,
   "id": "00314125-11d4-4f98-8f16-e004c8bff240",
   "metadata": {},
   "outputs": [],
   "source": [
    "titanic_url = ('https://raw.githubusercontent.com/amueller/'\n",
    "               'scipy-2017-sklearn/091d371/notebooks/datasets/titanic3.csv')"
   ]
  },
  {
   "cell_type": "code",
   "execution_count": 17,
   "id": "273a33be-2e55-4d30-9f0b-f12cf71c99b6",
   "metadata": {},
   "outputs": [],
   "source": [
    "data = pd.read_csv(titanic_url)"
   ]
  },
  {
   "cell_type": "code",
   "execution_count": 18,
   "id": "53936bd9-d6c7-43ba-bb59-3291be99d4c8",
   "metadata": {},
   "outputs": [
    {
     "name": "stdout",
     "output_type": "stream",
     "text": [
      "(1309, 14)\n"
     ]
    }
   ],
   "source": [
    "print(data.shape)"
   ]
  },
  {
   "cell_type": "code",
   "execution_count": 19,
   "id": "7740b9ee-7d2e-4f34-b352-06d68c0d2ad4",
   "metadata": {},
   "outputs": [
    {
     "data": {
      "text/html": [
       "<div>\n",
       "<style scoped>\n",
       "    .dataframe tbody tr th:only-of-type {\n",
       "        vertical-align: middle;\n",
       "    }\n",
       "\n",
       "    .dataframe tbody tr th {\n",
       "        vertical-align: top;\n",
       "    }\n",
       "\n",
       "    .dataframe thead th {\n",
       "        text-align: right;\n",
       "    }\n",
       "</style>\n",
       "<table border=\"1\" class=\"dataframe\">\n",
       "  <thead>\n",
       "    <tr style=\"text-align: right;\">\n",
       "      <th></th>\n",
       "      <th>pclass</th>\n",
       "      <th>survived</th>\n",
       "      <th>name</th>\n",
       "      <th>sex</th>\n",
       "      <th>age</th>\n",
       "      <th>sibsp</th>\n",
       "      <th>parch</th>\n",
       "      <th>ticket</th>\n",
       "      <th>fare</th>\n",
       "      <th>cabin</th>\n",
       "      <th>embarked</th>\n",
       "      <th>boat</th>\n",
       "      <th>body</th>\n",
       "      <th>home.dest</th>\n",
       "    </tr>\n",
       "  </thead>\n",
       "  <tbody>\n",
       "    <tr>\n",
       "      <th>0</th>\n",
       "      <td>1</td>\n",
       "      <td>1</td>\n",
       "      <td>Allen, Miss. Elisabeth Walton</td>\n",
       "      <td>female</td>\n",
       "      <td>29.0000</td>\n",
       "      <td>0</td>\n",
       "      <td>0</td>\n",
       "      <td>24160</td>\n",
       "      <td>211.3375</td>\n",
       "      <td>B5</td>\n",
       "      <td>S</td>\n",
       "      <td>2</td>\n",
       "      <td>NaN</td>\n",
       "      <td>St Louis, MO</td>\n",
       "    </tr>\n",
       "    <tr>\n",
       "      <th>1</th>\n",
       "      <td>1</td>\n",
       "      <td>1</td>\n",
       "      <td>Allison, Master. Hudson Trevor</td>\n",
       "      <td>male</td>\n",
       "      <td>0.9167</td>\n",
       "      <td>1</td>\n",
       "      <td>2</td>\n",
       "      <td>113781</td>\n",
       "      <td>151.5500</td>\n",
       "      <td>C22 C26</td>\n",
       "      <td>S</td>\n",
       "      <td>11</td>\n",
       "      <td>NaN</td>\n",
       "      <td>Montreal, PQ / Chesterville, ON</td>\n",
       "    </tr>\n",
       "    <tr>\n",
       "      <th>2</th>\n",
       "      <td>1</td>\n",
       "      <td>0</td>\n",
       "      <td>Allison, Miss. Helen Loraine</td>\n",
       "      <td>female</td>\n",
       "      <td>2.0000</td>\n",
       "      <td>1</td>\n",
       "      <td>2</td>\n",
       "      <td>113781</td>\n",
       "      <td>151.5500</td>\n",
       "      <td>C22 C26</td>\n",
       "      <td>S</td>\n",
       "      <td>NaN</td>\n",
       "      <td>NaN</td>\n",
       "      <td>Montreal, PQ / Chesterville, ON</td>\n",
       "    </tr>\n",
       "    <tr>\n",
       "      <th>3</th>\n",
       "      <td>1</td>\n",
       "      <td>0</td>\n",
       "      <td>Allison, Mr. Hudson Joshua Creighton</td>\n",
       "      <td>male</td>\n",
       "      <td>30.0000</td>\n",
       "      <td>1</td>\n",
       "      <td>2</td>\n",
       "      <td>113781</td>\n",
       "      <td>151.5500</td>\n",
       "      <td>C22 C26</td>\n",
       "      <td>S</td>\n",
       "      <td>NaN</td>\n",
       "      <td>135.0</td>\n",
       "      <td>Montreal, PQ / Chesterville, ON</td>\n",
       "    </tr>\n",
       "    <tr>\n",
       "      <th>4</th>\n",
       "      <td>1</td>\n",
       "      <td>0</td>\n",
       "      <td>Allison, Mrs. Hudson J C (Bessie Waldo Daniels)</td>\n",
       "      <td>female</td>\n",
       "      <td>25.0000</td>\n",
       "      <td>1</td>\n",
       "      <td>2</td>\n",
       "      <td>113781</td>\n",
       "      <td>151.5500</td>\n",
       "      <td>C22 C26</td>\n",
       "      <td>S</td>\n",
       "      <td>NaN</td>\n",
       "      <td>NaN</td>\n",
       "      <td>Montreal, PQ / Chesterville, ON</td>\n",
       "    </tr>\n",
       "  </tbody>\n",
       "</table>\n",
       "</div>"
      ],
      "text/plain": [
       "   pclass  survived                                             name     sex  \\\n",
       "0       1         1                    Allen, Miss. Elisabeth Walton  female   \n",
       "1       1         1                   Allison, Master. Hudson Trevor    male   \n",
       "2       1         0                     Allison, Miss. Helen Loraine  female   \n",
       "3       1         0             Allison, Mr. Hudson Joshua Creighton    male   \n",
       "4       1         0  Allison, Mrs. Hudson J C (Bessie Waldo Daniels)  female   \n",
       "\n",
       "       age  sibsp  parch  ticket      fare    cabin embarked boat   body  \\\n",
       "0  29.0000      0      0   24160  211.3375       B5        S    2    NaN   \n",
       "1   0.9167      1      2  113781  151.5500  C22 C26        S   11    NaN   \n",
       "2   2.0000      1      2  113781  151.5500  C22 C26        S  NaN    NaN   \n",
       "3  30.0000      1      2  113781  151.5500  C22 C26        S  NaN  135.0   \n",
       "4  25.0000      1      2  113781  151.5500  C22 C26        S  NaN    NaN   \n",
       "\n",
       "                         home.dest  \n",
       "0                     St Louis, MO  \n",
       "1  Montreal, PQ / Chesterville, ON  \n",
       "2  Montreal, PQ / Chesterville, ON  \n",
       "3  Montreal, PQ / Chesterville, ON  \n",
       "4  Montreal, PQ / Chesterville, ON  "
      ]
     },
     "execution_count": 19,
     "metadata": {},
     "output_type": "execute_result"
    }
   ],
   "source": [
    "data.head()"
   ]
  },
  {
   "cell_type": "markdown",
   "id": "1b8c855b-246d-4a90-b243-22f354b49196",
   "metadata": {},
   "source": [
    "## PreProcess\n",
    "    Data using sklearn's Column Transformer Approach\n",
    "    Let's Create preprocessing PipeLines for bot numeric and Categorical Data"
   ]
  },
  {
   "cell_type": "code",
   "execution_count": 27,
   "id": "00507169-59ea-4bdc-b344-47ec66aad38e",
   "metadata": {},
   "outputs": [],
   "source": [
    "numeric_features = ['age', 'fare']\n",
    "numeric_transformer = Pipeline(steps=[\n",
    "    ('imputer', SimpleImputer(strategy='median')),\n",
    "    ('scaler', StandardScaler())\n",
    "])\n",
    "\n",
    "\n",
    "categorical_features = ['embarked', 'sex', 'pclass']\n",
    "\n",
    "# Replacing Missing Values with Modal Values Than One Hot Encoding\n",
    "\n",
    "categorical_transformer = Pipeline(steps=[\n",
    "    ('imputer', SimpleImputer(strategy='most_frequent')),\n",
    "    ('onehot', OneHotEncoder(handle_unknown='ignore'))\n",
    "])\n",
    "\n",
    "# Final PreProcessor Object set up with ColumnTransformer\n",
    "\n",
    "preprocess = ColumnTransformer(\n",
    "    transformers = [\n",
    "        ('num', numeric_transformer, numeric_features),\n",
    "        ('cat', categorical_transformer, categorical_features)\n",
    "    ]\n",
    ")"
   ]
  },
  {
   "cell_type": "markdown",
   "id": "7f0192ec-691e-406e-a19e-43b4907065aa",
   "metadata": {},
   "source": [
    "## Target = Survived"
   ]
  },
  {
   "cell_type": "code",
   "execution_count": 28,
   "id": "00e7aa07-bf39-4267-8562-d71f5ed0f0f7",
   "metadata": {},
   "outputs": [],
   "source": [
    "y = data['survived']\n",
    "y = y.map({0: 'died', 1: 'survived'})"
   ]
  },
  {
   "cell_type": "code",
   "execution_count": 29,
   "id": "0c8c78cb-f4ab-45ec-b49b-0ae81c54a2ac",
   "metadata": {},
   "outputs": [],
   "source": [
    "# Keep Only PClass, Sex, Age, Fare, Embarked Features\n",
    "X = data.drop(['survived', 'sibsp', 'parch', 'ticket', 'name', 'cabin', 'boat', 'body', 'home.dest'], axis = 1)"
   ]
  },
  {
   "cell_type": "code",
   "execution_count": 30,
   "id": "0292462e-6dfd-4674-b883-c0df68186c09",
   "metadata": {},
   "outputs": [],
   "source": [
    "X_train, X_test, y_train, y_test = train_test_split(X, y, test_size = 0.2)\n",
    "preprocess = preprocess.fit(X_train)"
   ]
  },
  {
   "cell_type": "markdown",
   "id": "9f94ea37-f944-4d17-b221-336756a7bc82",
   "metadata": {},
   "source": [
    "## Function\n",
    "    To Transform Data with PreProcessor "
   ]
  },
  {
   "cell_type": "code",
   "execution_count": 34,
   "id": "2fea4bbe-27b6-47a6-a912-d409d93f0433",
   "metadata": {},
   "outputs": [],
   "source": [
    "def preprocessor(data):\n",
    "    preprocessed_data = preprocess.transform(data)\n",
    "    return preprocessed_data"
   ]
  },
  {
   "cell_type": "code",
   "execution_count": 35,
   "id": "8d9621f3-2894-49c3-8f07-41c91f60b0b0",
   "metadata": {},
   "outputs": [
    {
     "data": {
      "text/plain": [
       "(1047, 5)"
      ]
     },
     "execution_count": 35,
     "metadata": {},
     "output_type": "execute_result"
    }
   ],
   "source": [
    "X_train.shape"
   ]
  },
  {
   "cell_type": "markdown",
   "id": "5eaaa337-04be-4b8b-9945-42b4029236da",
   "metadata": {},
   "source": [
    "### Here Important Thing is to Notice that Categorical Feature Columns have been One Hot Encoded"
   ]
  },
  {
   "cell_type": "code",
   "execution_count": 36,
   "id": "2a117263-c5e8-444f-a09e-d5e314c7c9c5",
   "metadata": {},
   "outputs": [
    {
     "data": {
      "text/plain": [
       "array([[ 1.88524568, -0.1454686 ,  0.        , ...,  0.        ,\n",
       "         1.        ,  0.        ],\n",
       "       [-0.11201029,  0.76432759,  0.        , ...,  0.        ,\n",
       "         0.        ,  1.        ],\n",
       "       [-0.11201029, -0.52368059,  0.        , ...,  0.        ,\n",
       "         0.        ,  1.        ],\n",
       "       ...,\n",
       "       [-0.72655059, -0.49591248,  0.        , ...,  0.        ,\n",
       "         0.        ,  1.        ],\n",
       "       [-0.11201029, -0.4901675 ,  0.        , ...,  0.        ,\n",
       "         0.        ,  1.        ],\n",
       "       [-0.11201029, -0.53760642,  1.        , ...,  0.        ,\n",
       "         0.        ,  1.        ]])"
      ]
     },
     "execution_count": 36,
     "metadata": {},
     "output_type": "execute_result"
    }
   ],
   "source": [
    "preprocessor(X_train)"
   ]
  },
  {
   "cell_type": "markdown",
   "id": "cfd8d367-437b-4204-b1ed-e192a00c4771",
   "metadata": {},
   "source": [
    "# Building Own Model Using SkLearn"
   ]
  },
  {
   "cell_type": "code",
   "execution_count": 37,
   "id": "04bd5ebf-d00a-4620-bf34-7fbdfbc10008",
   "metadata": {},
   "outputs": [
    {
     "name": "stdout",
     "output_type": "stream",
     "text": [
      "(1047, 5) (262, 5) (1047,) (262,)\n"
     ]
    }
   ],
   "source": [
    "print(X_train.shape, X_test.shape,\n",
    "     y_train.shape, y_test.shape)"
   ]
  },
  {
   "cell_type": "markdown",
   "id": "feab6ea3-4518-408a-823e-fb69ab8e304f",
   "metadata": {},
   "source": [
    "## Penalized Logit"
   ]
  },
  {
   "cell_type": "code",
   "execution_count": 40,
   "id": "8f74beb4-d24a-4e11-9bf1-b4607f499466",
   "metadata": {},
   "outputs": [
    {
     "name": "stdout",
     "output_type": "stream",
     "text": [
      "Best ParaMeters {:.3f} {'C': 10.0, 'penalty': 'l2'}\n"
     ]
    }
   ],
   "source": [
    "hyperparameters = {'C':np.logspace(1, 10, 100), 'penalty':['l2']}\n",
    "\n",
    "logit = LogisticRegression()\n",
    "logit_cv = GridSearchCV(logit, hyperparameters, cv = 10)\n",
    "logit_cv.fit(preprocessor(X_train), y_train)\n",
    "\n",
    "print(\"Best ParaMeters {:.3f}\", logit_cv.best_params_)"
   ]
  },
  {
   "cell_type": "code",
   "execution_count": 41,
   "id": "338c0e33-e739-4d22-a4bb-e7b07e865d02",
   "metadata": {},
   "outputs": [
    {
     "data": {
      "text/html": [
       "<style>#sk-container-id-1 {color: black;}#sk-container-id-1 pre{padding: 0;}#sk-container-id-1 div.sk-toggleable {background-color: white;}#sk-container-id-1 label.sk-toggleable__label {cursor: pointer;display: block;width: 100%;margin-bottom: 0;padding: 0.3em;box-sizing: border-box;text-align: center;}#sk-container-id-1 label.sk-toggleable__label-arrow:before {content: \"▸\";float: left;margin-right: 0.25em;color: #696969;}#sk-container-id-1 label.sk-toggleable__label-arrow:hover:before {color: black;}#sk-container-id-1 div.sk-estimator:hover label.sk-toggleable__label-arrow:before {color: black;}#sk-container-id-1 div.sk-toggleable__content {max-height: 0;max-width: 0;overflow: hidden;text-align: left;background-color: #f0f8ff;}#sk-container-id-1 div.sk-toggleable__content pre {margin: 0.2em;color: black;border-radius: 0.25em;background-color: #f0f8ff;}#sk-container-id-1 input.sk-toggleable__control:checked~div.sk-toggleable__content {max-height: 200px;max-width: 100%;overflow: auto;}#sk-container-id-1 input.sk-toggleable__control:checked~label.sk-toggleable__label-arrow:before {content: \"▾\";}#sk-container-id-1 div.sk-estimator input.sk-toggleable__control:checked~label.sk-toggleable__label {background-color: #d4ebff;}#sk-container-id-1 div.sk-label input.sk-toggleable__control:checked~label.sk-toggleable__label {background-color: #d4ebff;}#sk-container-id-1 input.sk-hidden--visually {border: 0;clip: rect(1px 1px 1px 1px);clip: rect(1px, 1px, 1px, 1px);height: 1px;margin: -1px;overflow: hidden;padding: 0;position: absolute;width: 1px;}#sk-container-id-1 div.sk-estimator {font-family: monospace;background-color: #f0f8ff;border: 1px dotted black;border-radius: 0.25em;box-sizing: border-box;margin-bottom: 0.5em;}#sk-container-id-1 div.sk-estimator:hover {background-color: #d4ebff;}#sk-container-id-1 div.sk-parallel-item::after {content: \"\";width: 100%;border-bottom: 1px solid gray;flex-grow: 1;}#sk-container-id-1 div.sk-label:hover label.sk-toggleable__label {background-color: #d4ebff;}#sk-container-id-1 div.sk-serial::before {content: \"\";position: absolute;border-left: 1px solid gray;box-sizing: border-box;top: 0;bottom: 0;left: 50%;z-index: 0;}#sk-container-id-1 div.sk-serial {display: flex;flex-direction: column;align-items: center;background-color: white;padding-right: 0.2em;padding-left: 0.2em;position: relative;}#sk-container-id-1 div.sk-item {position: relative;z-index: 1;}#sk-container-id-1 div.sk-parallel {display: flex;align-items: stretch;justify-content: center;background-color: white;position: relative;}#sk-container-id-1 div.sk-item::before, #sk-container-id-1 div.sk-parallel-item::before {content: \"\";position: absolute;border-left: 1px solid gray;box-sizing: border-box;top: 0;bottom: 0;left: 50%;z-index: -1;}#sk-container-id-1 div.sk-parallel-item {display: flex;flex-direction: column;z-index: 1;position: relative;background-color: white;}#sk-container-id-1 div.sk-parallel-item:first-child::after {align-self: flex-end;width: 50%;}#sk-container-id-1 div.sk-parallel-item:last-child::after {align-self: flex-start;width: 50%;}#sk-container-id-1 div.sk-parallel-item:only-child::after {width: 0;}#sk-container-id-1 div.sk-dashed-wrapped {border: 1px dashed gray;margin: 0 0.4em 0.5em 0.4em;box-sizing: border-box;padding-bottom: 0.4em;background-color: white;}#sk-container-id-1 div.sk-label label {font-family: monospace;font-weight: bold;display: inline-block;line-height: 1.2em;}#sk-container-id-1 div.sk-label-container {text-align: center;}#sk-container-id-1 div.sk-container {/* jupyter's `normalize.less` sets `[hidden] { display: none; }` but bootstrap.min.css set `[hidden] { display: none !important; }` so we also need the `!important` here to be able to override the default hidden behavior on the sphinx rendered scikit-learn.org. See: https://github.com/scikit-learn/scikit-learn/issues/21755 */display: inline-block !important;position: relative;}#sk-container-id-1 div.sk-text-repr-fallback {display: none;}</style><div id=\"sk-container-id-1\" class=\"sk-top-container\"><div class=\"sk-text-repr-fallback\"><pre>LogisticRegression(C=10.0)</pre><b>In a Jupyter environment, please rerun this cell to show the HTML representation or trust the notebook. <br />On GitHub, the HTML representation is unable to render, please try loading this page with nbviewer.org.</b></div><div class=\"sk-container\" hidden><div class=\"sk-item\"><div class=\"sk-estimator sk-toggleable\"><input class=\"sk-toggleable__control sk-hidden--visually\" id=\"sk-estimator-id-1\" type=\"checkbox\" checked><label for=\"sk-estimator-id-1\" class=\"sk-toggleable__label sk-toggleable__label-arrow\">LogisticRegression</label><div class=\"sk-toggleable__content\"><pre>LogisticRegression(C=10.0)</pre></div></div></div></div></div>"
      ],
      "text/plain": [
       "LogisticRegression(C=10.0)"
      ]
     },
     "execution_count": 41,
     "metadata": {},
     "output_type": "execute_result"
    }
   ],
   "source": [
    "logit_cv.best_estimator_"
   ]
  },
  {
   "cell_type": "code",
   "execution_count": 42,
   "id": "215a4c8a-cb16-4b87-9b9d-848a4ffd4f87",
   "metadata": {},
   "outputs": [
    {
     "data": {
      "text/plain": [
       "0.7841451766953199"
      ]
     },
     "execution_count": 42,
     "metadata": {},
     "output_type": "execute_result"
    }
   ],
   "source": [
    "model = LogisticRegression(C = 10, penalty = 'l2')\n",
    "model.fit(preprocessor(X_train), y_train)\n",
    "model.score(preprocessor(X_train), y_train)"
   ]
  },
  {
   "cell_type": "code",
   "execution_count": 43,
   "id": "d59796d3-ceb3-4b8d-9506-44a80b0080f7",
   "metadata": {},
   "outputs": [],
   "source": [
    "y_pred = model.predict(preprocessor(X_test))"
   ]
  },
  {
   "cell_type": "code",
   "execution_count": 44,
   "id": "19206df9-66f6-414f-93cb-066cc5df23d5",
   "metadata": {},
   "outputs": [
    {
     "data": {
      "text/plain": [
       "array(['died', 'died', 'died', 'died', 'died', 'died', 'died', 'died',\n",
       "       'died', 'died', 'died', 'died', 'died', 'died', 'died', 'survived',\n",
       "       'survived', 'died', 'died', 'survived', 'survived', 'survived',\n",
       "       'survived', 'survived', 'died', 'survived', 'died', 'survived',\n",
       "       'died', 'survived', 'died', 'survived', 'died', 'died', 'died',\n",
       "       'died', 'died', 'died', 'survived', 'survived', 'died', 'survived',\n",
       "       'survived', 'died', 'died', 'died', 'survived', 'died', 'died',\n",
       "       'died', 'died', 'died', 'died', 'survived', 'died', 'died', 'died',\n",
       "       'died', 'died', 'survived', 'died', 'died', 'survived', 'died',\n",
       "       'survived', 'survived', 'survived', 'survived', 'died', 'survived',\n",
       "       'died', 'died', 'died', 'died', 'died', 'died', 'died', 'survived',\n",
       "       'survived', 'died', 'died', 'survived', 'died', 'survived', 'died',\n",
       "       'died', 'died', 'survived', 'died', 'died', 'died', 'died', 'died',\n",
       "       'survived', 'died', 'died', 'died', 'died', 'died', 'died',\n",
       "       'survived', 'survived', 'died', 'died', 'died', 'survived', 'died',\n",
       "       'survived', 'died', 'survived', 'died', 'died', 'survived',\n",
       "       'survived', 'survived', 'died', 'survived', 'died', 'survived',\n",
       "       'survived', 'survived', 'survived', 'died', 'died', 'died',\n",
       "       'survived', 'died', 'died', 'survived', 'died', 'died', 'died',\n",
       "       'died', 'died', 'survived', 'died', 'died', 'survived', 'survived',\n",
       "       'survived', 'survived', 'died', 'survived', 'survived', 'survived',\n",
       "       'died', 'survived', 'survived', 'died', 'died', 'died', 'died',\n",
       "       'survived', 'died', 'died', 'died', 'died', 'died', 'died', 'died',\n",
       "       'died', 'died', 'survived', 'died', 'died', 'died', 'survived',\n",
       "       'died', 'died', 'survived', 'died', 'died', 'survived', 'died',\n",
       "       'died', 'died', 'survived', 'died', 'died', 'died', 'died',\n",
       "       'survived', 'died', 'died', 'died', 'survived', 'died', 'died',\n",
       "       'died', 'died', 'survived', 'died', 'survived', 'survived', 'died',\n",
       "       'died', 'survived', 'died', 'died', 'died', 'died', 'died', 'died',\n",
       "       'died', 'died', 'survived', 'died', 'survived', 'died', 'died',\n",
       "       'died', 'died', 'died', 'died', 'survived', 'died', 'survived',\n",
       "       'died', 'died', 'died', 'survived', 'died', 'died', 'survived',\n",
       "       'survived', 'died', 'survived', 'died', 'died', 'died', 'died',\n",
       "       'survived', 'survived', 'died', 'died', 'died', 'survived',\n",
       "       'survived', 'died', 'died', 'survived', 'died', 'died', 'died',\n",
       "       'survived', 'died', 'survived', 'survived', 'died', 'died',\n",
       "       'survived', 'died', 'survived', 'died', 'died', 'died', 'survived',\n",
       "       'died', 'survived', 'died', 'died', 'died'], dtype=object)"
      ]
     },
     "execution_count": 44,
     "metadata": {},
     "output_type": "execute_result"
    }
   ],
   "source": [
    "y_pred"
   ]
  },
  {
   "cell_type": "code",
   "execution_count": 45,
   "id": "95562a13-5102-4662-9cd3-ce584d29e114",
   "metadata": {},
   "outputs": [],
   "source": [
    "from sklearn.metrics import accuracy_score"
   ]
  },
  {
   "cell_type": "code",
   "execution_count": 47,
   "id": "ee89c289-ffbe-4f64-ac1c-db2d2024e9fe",
   "metadata": {},
   "outputs": [
    {
     "name": "stdout",
     "output_type": "stream",
     "text": [
      "Accuracy: 79.39%\n"
     ]
    }
   ],
   "source": [
    "print(\"Accuracy: {:.2f}%\".format(accuracy_score(y_test, y_pred)*100))"
   ]
  },
  {
   "cell_type": "code",
   "execution_count": null,
   "id": "f6421d1d-f9c2-44b9-a866-cd1211bdcf49",
   "metadata": {},
   "outputs": [],
   "source": []
  }
 ],
 "metadata": {
  "kernelspec": {
   "display_name": "Python 3 (ipykernel)",
   "language": "python",
   "name": "python3"
  },
  "language_info": {
   "codemirror_mode": {
    "name": "ipython",
    "version": 3
   },
   "file_extension": ".py",
   "mimetype": "text/x-python",
   "name": "python",
   "nbconvert_exporter": "python",
   "pygments_lexer": "ipython3",
   "version": "3.11.6"
  }
 },
 "nbformat": 4,
 "nbformat_minor": 5
}
